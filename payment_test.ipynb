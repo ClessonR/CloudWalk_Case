{
 "cells": [
  {
   "cell_type": "markdown",
   "metadata": {},
   "source": [
    "<div style=\"text-align: center; margin-top: 50px; margin-bottom: 30px;\">\n",
    "    <h1 style=\"font-size: 3em; color:#00E0FF;\">Payment Analysis Test Case</h1>\n",
    "    <h3 style=\"font-size: 2em; color: #E3BD00;\">Clesson Roberto da Silva Junior</h3>\n",
    "    \n",
    "</div>\n",
    "\n",
    "---\n",
    "\n",
    "## Description\n",
    "\n",
    "In this analysis, I will use Python to process and analyze the data, extracting as much information as possible. Subsequently, I will heavily research and implement the best machine learning model to predict fraud.\n",
    "\n",
    "\n",
    "From all my previous experiences, the Google Framework is the best way to analyze data. But how it works? \n",
    "\n",
    "## Google Analytics Steps\n",
    "\n",
    "<ol style=\"font-size: 1.2em; color: #F3CF1D; line-height: 1.5;\">\n",
    "  <li><strong>Ask</strong> - Define the questions you want to answer.</li>\n",
    "  <li><strong>Prepare</strong> - Collect and prepare your data for analysis.</li>\n",
    "  <li><strong>Process</strong> - Clean and transform the data to ensure accuracy.</li>\n",
    "  <li><strong>Analyze</strong> - Examine the data to find insights and patterns.</li>\n",
    "  <li><strong>Share</strong> - Present your findings to stakeholders.</li>\n",
    "  <li><strong>Act</strong> - Make decisions and take actions based on the analysis.</li>\n",
    "</ol>"
   ]
  },
  {
   "cell_type": "markdown",
   "metadata": {},
   "source": [
    "So, let's get into our first section, to ask the questions."
   ]
  },
  {
   "cell_type": "markdown",
   "metadata": {},
   "source": [
    "---"
   ]
  },
  {
   "cell_type": "markdown",
   "metadata": {},
   "source": [
    "## <span style=\"color:#F7A454\">1. Asking the questions</span>\n"
   ]
  },
  {
   "cell_type": "markdown",
   "metadata": {},
   "source": [
    "## Common Findings in Fraud Detection\n",
    "\n",
    "Here are some of the most common findings when identifying fraud in credit card data:\n",
    "\n",
    "1. **Unusual Transaction Amounts**: Transactions that are significantly higher or lower than the average transaction amounts.\n",
    "2. **Multiple Transactions in a Short Time Frame**: Numerous transactions occurring within a very short period.\n",
    "3. **Transactions from Different Geographic Locations**: Transactions made from locations that are significantly different from the cardholder’s usual locations.\n",
    "4. **Inconsistent Merchant Categories**: Purchases from merchant categories that are unusual for the cardholder.\n",
    "5. **Odd Hours Transactions**: Transactions made at times that are unusual for the cardholder.\n",
    "6. **Frequent Chargebacks**: A high number of chargebacks associated with the cardholder's account.\n",
    "\n",
    "### Key Questions to Ask:\n",
    "\n",
    "1. **Are there any transactions that significantly deviate from the cardholder’s typical spending patterns?**\n",
    "2. **Are there clusters of transactions occurring in a very short period?**\n",
    "3. **Do any transactions originate from geographic locations far from the cardholder’s usual area?**\n",
    "4. **Are there purchases from merchant categories that are atypical for the cardholder?**\n",
    "5. **Do any transactions occur at odd hours, compared to the cardholder’s normal activity?**\n",
    "6. **Is there a high frequency of chargebacks, and what are the reasons for these chargebacks?**\n",
    "\n",
    "Not all the questions must be answered perfectly, but now I've a guide. **So, let's prepare the data.**"
   ]
  },
  {
   "cell_type": "markdown",
   "metadata": {},
   "source": [
    "---"
   ]
  },
  {
   "cell_type": "markdown",
   "metadata": {},
   "source": [
    "## <span style=\"color:#F7A454\">2. Preparing the data.</span>"
   ]
  },
  {
   "cell_type": "markdown",
   "metadata": {},
   "source": [
    "#### Importing Lib's"
   ]
  },
  {
   "cell_type": "code",
   "execution_count": 3,
   "metadata": {},
   "outputs": [],
   "source": [
    "import pandas as pd\n",
    "import numpy as np\n",
    "import matplotlib.pyplot as plt\n",
    "import seaborn as sns\n",
    "from sklearn.model_selection import train_test_split\n",
    "from sklearn.preprocessing import StandardScaler\n",
    "from sklearn.linear_model import LogisticRegression\n",
    "from sklearn.metrics import confusion_matrix, classification_report"
   ]
  },
  {
   "cell_type": "markdown",
   "metadata": {},
   "source": [
    "#### Taking a look at the data"
   ]
  },
  {
   "cell_type": "code",
   "execution_count": 9,
   "metadata": {},
   "outputs": [
    {
     "name": "stdout",
     "output_type": "stream",
     "text": [
      "   transaction_id  merchant_id  user_id       card_number  \\\n",
      "0        21320398        29744    97051  434505******9116   \n",
      "1        21320399        92895     2708  444456******4210   \n",
      "2        21320400        47759    14777  425850******7024   \n",
      "3        21320401        68657    69758  464296******3991   \n",
      "4        21320402        54075    64367  650487******6116   \n",
      "\n",
      "             transaction_date  transaction_amount  device_id  has_cbk  \n",
      "0  2019-12-01T23:16:32.812632              374.56   285475.0    False  \n",
      "1  2019-12-01T22:45:37.873639              734.87   497105.0     True  \n",
      "2  2019-12-01T22:22:43.021495              760.36        NaN    False  \n",
      "3  2019-12-01T21:59:19.797129             2556.13        NaN     True  \n",
      "4  2019-12-01T21:30:53.347051               55.36   860232.0    False  \n",
      "<class 'pandas.core.frame.DataFrame'>\n",
      "RangeIndex: 3199 entries, 0 to 3198\n",
      "Data columns (total 8 columns):\n",
      " #   Column              Non-Null Count  Dtype  \n",
      "---  ------              --------------  -----  \n",
      " 0   transaction_id      3199 non-null   int64  \n",
      " 1   merchant_id         3199 non-null   int64  \n",
      " 2   user_id             3199 non-null   int64  \n",
      " 3   card_number         3199 non-null   object \n",
      " 4   transaction_date    3199 non-null   object \n",
      " 5   transaction_amount  3199 non-null   float64\n",
      " 6   device_id           2369 non-null   float64\n",
      " 7   has_cbk             3199 non-null   bool   \n",
      "dtypes: bool(1), float64(2), int64(3), object(2)\n",
      "memory usage: 178.2+ KB\n",
      "None\n",
      "       transaction_id   merchant_id       user_id  transaction_amount  \\\n",
      "count    3.199000e+03   3199.000000   3199.000000         3199.000000   \n",
      "mean     2.132200e+07  48771.128790  50891.077212          767.812904   \n",
      "std      9.236161e+02  29100.360839  29515.282827          889.095904   \n",
      "min      2.132040e+07     16.000000      6.000000            1.220000   \n",
      "25%      2.132120e+07  23426.000000  24267.500000          205.235000   \n",
      "50%      2.132200e+07  48752.000000  52307.000000          415.940000   \n",
      "75%      2.132280e+07  73915.000000  76837.000000          981.680000   \n",
      "max      2.132360e+07  99799.000000  99974.000000         4097.210000   \n",
      "\n",
      "           device_id  \n",
      "count    2369.000000  \n",
      "mean   493924.859856  \n",
      "std    283785.584545  \n",
      "min         2.000000  \n",
      "25%    259344.000000  \n",
      "50%    495443.000000  \n",
      "75%    733243.000000  \n",
      "max    999843.000000  \n",
      "transaction_id          0\n",
      "merchant_id             0\n",
      "user_id                 0\n",
      "card_number             0\n",
      "transaction_date        0\n",
      "transaction_amount      0\n",
      "device_id             830\n",
      "has_cbk                 0\n",
      "dtype: int64\n"
     ]
    }
   ],
   "source": [
    "df = pd.read_csv('transactions.csv')\n",
    "print(df.head())\n",
    "print(df.info())\n",
    "print(df.describe())\n",
    "print(df.isnull().sum())\n"
   ]
  },
  {
   "cell_type": "markdown",
   "metadata": {},
   "source": [
    "### Brief Analysis\n",
    "\n",
    "The card number is currently masked with asterisks, which hinders its usability. I will remove the asterisks to make the data more accessible for analysis.\n",
    "\n",
    "Regarding the null values in the device_id column, this anomaly warrants further investigation. It is possible that individuals with null device IDs may be either important users who prioritize their device privacy or potential fraudsters attempting to conceal their identity. This aspect requires deeper analysis to discern patterns and potential implications.\n",
    "\n",
    "The std is higher than the mean in the \"transaction_amount\" column, so the amount variability is high. So these questions come to mind:\n",
    " - Are there any specific transaction amounts or ranges that are more common or less common? \n",
    " - Are there any outliers in transaction amounts that warrant further investigation?\n",
    "\n",
    "Transaction data is an object, convert it to time frame\n",
    "\n",
    "It's a common practice in carding (the act of using fraudulent credit cards), a common tactic involves attempting multiple cards with altered details but under the same merchant ID. This practice is aimed at impersonating different individuals while maintaining consistency with the merchant. To detect potential instances of this, I will analyze transactions with similar amounts occurring within the same merchant and occurring within a short timeframe, approximately 30 minutes.\n",
    "\n",
    "Very low amounts may also indicate that a hacker is trying to test if the stolen CC info is working or not.\n"
   ]
  },
  {
   "cell_type": "markdown",
   "metadata": {},
   "source": [
    "---"
   ]
  },
  {
   "cell_type": "markdown",
   "metadata": {},
   "source": [
    "## <span style=\"color:#F7A454\">3. Processing the data.</span>"
   ]
  },
  {
   "cell_type": "code",
   "execution_count": null,
   "metadata": {},
   "outputs": [],
   "source": []
  },
  {
   "cell_type": "code",
   "execution_count": null,
   "metadata": {},
   "outputs": [],
   "source": []
  },
  {
   "cell_type": "code",
   "execution_count": null,
   "metadata": {},
   "outputs": [],
   "source": []
  },
  {
   "cell_type": "code",
   "execution_count": null,
   "metadata": {},
   "outputs": [],
   "source": []
  },
  {
   "cell_type": "code",
   "execution_count": null,
   "metadata": {},
   "outputs": [],
   "source": []
  }
 ],
 "metadata": {
  "kernelspec": {
   "display_name": "base",
   "language": "python",
   "name": "python3"
  },
  "language_info": {
   "codemirror_mode": {
    "name": "ipython",
    "version": 3
   },
   "file_extension": ".py",
   "mimetype": "text/x-python",
   "name": "python",
   "nbconvert_exporter": "python",
   "pygments_lexer": "ipython3",
   "version": "3.10.9"
  }
 },
 "nbformat": 4,
 "nbformat_minor": 2
}
